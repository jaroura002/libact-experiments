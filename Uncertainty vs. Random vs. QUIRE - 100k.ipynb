{
 "cells": [
  {
   "cell_type": "code",
   "execution_count": 1,
   "metadata": {
    "collapsed": false
   },
   "outputs": [],
   "source": [
    "%matplotlib inline\n",
    "\n",
    "import matplotlib\n",
    "import numpy as np\n",
    "import matplotlib.pyplot as plt\n",
    "from scipy import stats\n",
    "\n",
    "from sklearn.feature_extraction.text import TfidfVectorizer\n",
    "\n",
    "import pickle\n",
    "import os\n",
    "from sklearn import datasets\n",
    "from sklearn.semi_supervised import label_propagation\n",
    "from sklearn.linear_model import LogisticRegression\n",
    "from sklearn.metrics import classification_report, confusion_matrix\n",
    "\n",
    "N_examples = 890393 # total\n",
    "\n",
    "N_samples = 100000\n",
    "\n",
    "def create_dataset(balanced=False):\n",
    "    y = np.zeros(N_samples)\n",
    "    i = 0\n",
    "    n_neg = 0\n",
    "    corpus = []\n",
    "\n",
    "    for line in open('train_filtered.csv'):\n",
    "        label, text = line.split(',')\n",
    "        label = int(label)\n",
    "\n",
    "        if label == -1:\n",
    "            n_neg += 1\n",
    "            if balanced and n_neg > N_samples / 2:\n",
    "                continue\n",
    "\n",
    "        corpus.append(text)\n",
    "        y[i] = label        \n",
    "\n",
    "        i += 1        \n",
    "        if i == N_samples:\n",
    "            break\n",
    "    \n",
    "    vectorizer = TfidfVectorizer(ngram_range=(1, 1), min_df=5, max_df=0.5, stop_words='english')\n",
    "    \n",
    "    X = vectorizer.fit_transform(corpus)\n",
    "    \"\"\"\n",
    "    We change label -1 to 0 and keep -1 to represent unlabeled instances\n",
    "    \"\"\"\n",
    "    y[y==-1] = 0\n",
    "    \n",
    "    return X.toarray(), y\n",
    "\n",
    "def load_dataset():\n",
    "    fname = \"dataset.pickle\"\n",
    "    if os.path.exists(fname):\n",
    "        dataset = pickle.load(open(fname, 'rb'))\n",
    "    else:\n",
    "        dataset = create_dataset()\n",
    "        pickle.dump(dataset, open(fname, 'wb'))\n",
    "    X, y = dataset\n",
    "    return X, y\n"
   ]
  },
  {
   "cell_type": "code",
   "execution_count": 2,
   "metadata": {
    "collapsed": false
   },
   "outputs": [],
   "source": [
    "#!/usr/bin/env python3\n",
    "\"\"\"\n",
    "The script helps guide the users to quickly understand how to use\n",
    "libact by going through a simple active learning task with clear\n",
    "descriptions.\n",
    "\"\"\"\n",
    "\n",
    "import copy\n",
    "import os\n",
    "\n",
    "import numpy as np\n",
    "import matplotlib.pyplot as plt\n",
    "from sklearn.cross_validation import train_test_split\n",
    "\n",
    "# libact classes\n",
    "from libact.base.dataset import Dataset, import_libsvm_sparse\n",
    "from libact.models import *\n",
    "from libact.query_strategies import *\n",
    "from libact.labelers import IdealLabeler\n",
    "\n",
    "\n",
    "def run(trn_ds, tst_ds, lbr, model, qs, quota, batch_size):\n",
    "    E_in, E_out = [], []\n",
    "\n",
    "    batch_i = 0\n",
    "    for _ in range(quota):\n",
    "        # Standard usage of libact objects\n",
    "        ask_id = qs.make_query()\n",
    "        X, _ = zip(*trn_ds.data)\n",
    "        lb = lbr.label(X[ask_id])\n",
    "        trn_ds.update(ask_id, lb)\n",
    "        batch_i += 1\n",
    "        if batch_i == batch_size:\n",
    "            model.train(trn_ds)\n",
    "            batch_i = 0            \n",
    "            E_in = np.append(E_in, 1 - model.score(trn_ds))\n",
    "            E_out = np.append(E_out, 1 - model.score(tst_ds))\n",
    "\n",
    "    return E_in, E_out\n",
    "\n",
    "\n",
    "def split_train_test(X, y, test_size, n_labeled):\n",
    "    X_train, X_test, y_train, y_test = \\\n",
    "        train_test_split(X, y, test_size=test_size)\n",
    "    trn_ds = Dataset(X_train, np.concatenate(\n",
    "        [y_train[:n_labeled], [None] * (len(y_train) - n_labeled)]))\n",
    "    tst_ds = Dataset(X_test, y_test)\n",
    "    fully_labeled_trn_ds = Dataset(X_train, y_train)\n",
    "\n",
    "    return trn_ds, tst_ds, y_train, fully_labeled_trn_ds\n"
   ]
  },
  {
   "cell_type": "code",
   "execution_count": 3,
   "metadata": {
    "collapsed": true
   },
   "outputs": [],
   "source": [
    "X, y = create_dataset(balanced=True)"
   ]
  },
  {
   "cell_type": "code",
   "execution_count": 4,
   "metadata": {
    "collapsed": false
   },
   "outputs": [
    {
     "data": {
      "text/plain": [
       "(10000, 4780)"
      ]
     },
     "execution_count": 4,
     "metadata": {},
     "output_type": "execute_result"
    }
   ],
   "source": [
    "X.shape"
   ]
  },
  {
   "cell_type": "code",
   "execution_count": 5,
   "metadata": {
    "collapsed": false
   },
   "outputs": [
    {
     "data": {
      "text/plain": [
       "5000"
      ]
     },
     "execution_count": 5,
     "metadata": {},
     "output_type": "execute_result"
    }
   ],
   "source": [
    "sum(y==1)"
   ]
  },
  {
   "cell_type": "code",
   "execution_count": null,
   "metadata": {
    "collapsed": false
   },
   "outputs": [],
   "source": [
    "# Specifiy the parameters here:\n",
    "\n",
    "test_size = 0.33    # the percentage of samples in the dataset that will be\n",
    "                    # randomly selected and assigned to the test set\n",
    "n_labeled = 100     # number of samples that are initially labeled\n",
    "batch_size = 100    # number of new queries to fetch before retraining the classifier\n",
    "\n",
    "# Load dataset\n",
    "# X, y = load_dataset_reduced()\n",
    "# X, y = load_dataset()\n",
    "X, y = create_dataset(balanced=True)\n",
    "\n",
    "trn_ds, tst_ds, y_train, fully_labeled_trn_ds = \\\n",
    "    split_train_test(X, y, test_size, n_labeled)\n",
    "trn_ds2 = copy.deepcopy(trn_ds)\n",
    "trn_ds3 = copy.deepcopy(trn_ds)\n",
    "\n",
    "lbr = IdealLabeler(fully_labeled_trn_ds)\n",
    "\n",
    "quota = len(y_train) - n_labeled    # number of samples to query\n",
    "\n",
    "# Comparing UncertaintySampling strategy with RandomSampling.\n",
    "# model is the base learner, e.g. LogisticRegression, SVM ... etc.\n",
    "qs = UncertaintySampling(trn_ds, method='lc', model=LogisticRegression(class_weight='balanced'))\n",
    "model1 = LogisticRegression(class_weight='balanced')\n",
    "E_in_1, E_out_1 = run(trn_ds, tst_ds, lbr, model1, qs, quota, batch_size)\n",
    "\n",
    "qs2 = RandomSampling(trn_ds2)\n",
    "model2 = LogisticRegression(class_weight='balanced')\n",
    "E_in_2, E_out_2 = run(trn_ds2, tst_ds, lbr, model2, qs2, quota, batch_size)\n",
    "\n",
    "qs3 = QUIRE(trn_ds3)\n",
    "model3 = LogisticRegression(class_weight='balanced')\n",
    "E_in_3, E_out_3 = run(trn_ds3, tst_ds, lbr, model3, qs3, quota, batch_size)\n"
   ]
  },
  {
   "cell_type": "code",
   "execution_count": null,
   "metadata": {
    "collapsed": false
   },
   "outputs": [],
   "source": [
    "# Plot the learning curve of UncertaintySampling to RandomSampling\n",
    "# The x-axis is the number of batches, and the y-axis is the corresponding\n",
    "# error rate.\n",
    "import math\n",
    "query_num = np.arange(1, quota + 1)\n",
    "n_batches = math.floor(quota / batch_size)\n",
    "batch_num = np.arange(1, n_batches + 1)\n",
    "plt.plot(batch_num, E_in_1, 'b', label='qs trainE')\n",
    "plt.plot(batch_num, E_in_2, 'r', label='random trainE')\n",
    "plt.plot(batch_num, E_in_3, 'r', label='QUIRE trainE')\n",
    "\n",
    "plt.plot(batch_num, E_out_1, 'g', label='qs testE')\n",
    "plt.plot(batch_num, E_out_2, 'k', label='random testE')\n",
    "plt.plot(batch_num, E_out_3, 'k', label='QUIRE testE')\n",
    "plt.xlabel('Number of Batches')\n",
    "plt.ylabel('Error')\n",
    "plt.title('Experiment Result')\n",
    "plt.legend(loc='upper center', bbox_to_anchor=(0.5, -0.05),\n",
    "           fancybox=True, shadow=True, ncol=5)\n",
    "plt.show()"
   ]
  },
  {
   "cell_type": "code",
   "execution_count": null,
   "metadata": {
    "collapsed": false
   },
   "outputs": [],
   "source": [
    "print(\"Confusion matrices\")\n",
    "for i, m in enumerate([model1, model2, model3]):\n",
    "    pred_labels = model2.predict(X)\n",
    "    print(['uncert', 'random', 'QUIRE'])\n",
    "    cm = confusion_matrix(y, pred_labels)\n",
    "    print(cm)"
   ]
  }
 ],
 "metadata": {
  "kernelspec": {
   "display_name": "Python 3",
   "language": "python",
   "name": "python3"
  },
  "language_info": {
   "codemirror_mode": {
    "name": "ipython",
    "version": 3
   },
   "file_extension": ".py",
   "mimetype": "text/x-python",
   "name": "python",
   "nbconvert_exporter": "python",
   "pygments_lexer": "ipython3",
   "version": "3.5.1"
  }
 },
 "nbformat": 4,
 "nbformat_minor": 0
}
