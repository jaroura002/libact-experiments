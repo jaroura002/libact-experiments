{
 "cells": [
  {
   "cell_type": "code",
   "execution_count": 1,
   "metadata": {
    "collapsed": false
   },
   "outputs": [],
   "source": [
    "%matplotlib inline\n",
    "\n",
    "import matplotlib\n",
    "import numpy as np\n",
    "import matplotlib.pyplot as plt\n",
    "from scipy import stats\n",
    "\n",
    "from sklearn.feature_extraction.text import TfidfVectorizer\n",
    "\n",
    "import pickle\n",
    "import os\n",
    "from sklearn import datasets\n",
    "from sklearn.semi_supervised import label_propagation\n",
    "from sklearn.linear_model import LogisticRegression\n",
    "from sklearn.metrics import classification_report, confusion_matrix\n",
    "\n",
    "N_examples = 890393 # total\n",
    "\n",
    "N_samples = 100000\n",
    "\n",
    "def create_dataset(balanced=False):\n",
    "    y = np.zeros(N_samples)\n",
    "    i = 0\n",
    "    n_neg = 0\n",
    "    corpus = []\n",
    "\n",
    "    for line in open('train_filtered.csv'):\n",
    "        label, text = line.split(',')\n",
    "        label = int(label)\n",
    "\n",
    "        if label == -1:\n",
    "            n_neg += 1\n",
    "            if balanced and n_neg > N_samples / 2:\n",
    "                continue\n",
    "\n",
    "        corpus.append(text)\n",
    "        y[i] = label        \n",
    "\n",
    "        i += 1        \n",
    "        if i == N_samples:\n",
    "            break\n",
    "    \n",
    "    vectorizer = TfidfVectorizer(ngram_range=(1, 2), min_df=5, max_df=0.5, stop_words='english')\n",
    "    \n",
    "    X = vectorizer.fit_transform(corpus)\n",
    "    \"\"\"\n",
    "    We change label -1 to 0 and keep -1 to represent unlabeled instances\n",
    "    \"\"\"\n",
    "    y[y==-1] = 0\n",
    "    \n",
    "    return X.toarray(), y\n",
    "\n",
    "def load_dataset():\n",
    "    fname = \"dataset.pickle\"\n",
    "    if os.path.exists(fname):\n",
    "        dataset = pickle.load(open(fname, 'rb'))\n",
    "    else:\n",
    "        dataset = create_dataset()\n",
    "        pickle.dump(dataset, open(fname, 'wb'))\n",
    "    X, y = dataset\n",
    "    return X, y\n"
   ]
  },
  {
   "cell_type": "code",
   "execution_count": 2,
   "metadata": {
    "collapsed": true
   },
   "outputs": [],
   "source": [
    "X, y = create_dataset(balanced=True)"
   ]
  },
  {
   "cell_type": "code",
   "execution_count": 3,
   "metadata": {
    "collapsed": false
   },
   "outputs": [
    {
     "data": {
      "text/plain": [
       "(100000, 97374)"
      ]
     },
     "execution_count": 3,
     "metadata": {},
     "output_type": "execute_result"
    }
   ],
   "source": [
    "X.shape"
   ]
  },
  {
   "cell_type": "code",
   "execution_count": 4,
   "metadata": {
    "collapsed": true
   },
   "outputs": [],
   "source": [
    "from sklearn.feature_selection import RFE"
   ]
  },
  {
   "cell_type": "code",
   "execution_count": 8,
   "metadata": {
    "collapsed": false
   },
   "outputs": [],
   "source": [
    "from sklearn.svm import SVR\n",
    "estimator = SVR(kernel=\"linear\")\n",
    "selector = RFE(estimator=estimator , n_features_to_select=5000, step=10)"
   ]
  },
  {
   "cell_type": "code",
   "execution_count": null,
   "metadata": {
    "collapsed": true
   },
   "outputs": [],
   "source": [
    "Xr = selector.fit_transform(X, y)"
   ]
  },
  {
   "cell_type": "code",
   "execution_count": null,
   "metadata": {
    "collapsed": true
   },
   "outputs": [],
   "source": []
  },
  {
   "cell_type": "code",
   "execution_count": null,
   "metadata": {
    "collapsed": false
   },
   "outputs": [],
   "source": [
    "# Specifiy the parameters here:\n",
    "\n",
    "test_size = 0.33    # the percentage of samples in the dataset that will be\n",
    "                    # randomly selected and assigned to the test setng the classifier\n",
    "X, y = create_dataset(balanced=True)\n",
    "\n",
    "trn_ds, tst_ds, y_train, fully_labeled_trn_ds = \\\n",
    "    split_train_test(X, y, test_size, n_labeled)\n",
    "trn_ds2 = copy.deepcopy(trn_ds)\n",
    "trn_ds3 = copy.deepcopy(trn_ds)\n",
    "\n",
    "lbr = IdealLabeler(fully_labeled_trn_ds)\n",
    "\n",
    "quota = len(y_train) - n_labeled    # number of samples to query\n",
    "\n",
    "# Comparing UncertaintySampling strategy with RandomSampling.\n",
    "# model is the base learner, e.g. LogisticRegression, SVM ... etc.\n",
    "qs = UncertaintySampling(trn_ds, method='lc', model=LogisticRegression(class_weight='balanced'))\n",
    "model1 = LogisticRegression(class_weight='balanced')\n",
    "E_in_1, E_out_1 = run(trn_ds, tst_ds, lbr, model1, qs, quota, batch_size)\n",
    "\n",
    "qs2 = RandomSampling(trn_ds2)\n",
    "model2 = LogisticRegression(class_weight='balanced')\n",
    "E_in_2, E_out_2 = run(trn_ds2, tst_ds, lbr, model2, qs2, quota, batch_size)\n",
    "\n",
    "qs3 = QUIRE(trn_ds3)\n",
    "model3 = LogisticRegression(class_weight='balanced')\n",
    "E_in_3, E_out_3 = run(trn_ds3, tst_ds, lbr, model3, qs3, quota, batch_size)\n"
   ]
  },
  {
   "cell_type": "code",
   "execution_count": null,
   "metadata": {
    "collapsed": false
   },
   "outputs": [],
   "source": [
    "# Plot the learning curve of UncertaintySampling to RandomSampling\n",
    "# The x-axis is the number of batches, and the y-axis is the corresponding\n",
    "# error rate.\n",
    "import math\n",
    "query_num = np.arange(1, quota + 1)\n",
    "n_batches = math.floor(quota / batch_size)\n",
    "batch_num = np.arange(1, n_batches + 1)\n",
    "plt.plot(batch_num, E_in_1, 'b', label='qs trainE')\n",
    "plt.plot(batch_num, E_in_2, 'r', label='random trainE')\n",
    "plt.plot(batch_num, E_in_3, 'r', label='QUIRE trainE')\n",
    "\n",
    "plt.plot(batch_num, E_out_1, 'g', label='qs testE')\n",
    "plt.plot(batch_num, E_out_2, 'k', label='random testE')\n",
    "plt.plot(batch_num, E_out_3, 'k', label='QUIRE testE')\n",
    "plt.xlabel('Number of Batches')\n",
    "plt.ylabel('Error')\n",
    "plt.title('Experiment Result')\n",
    "plt.legend(loc='upper center', bbox_to_anchor=(0.5, -0.05),\n",
    "           fancybox=True, shadow=True, ncol=5)\n",
    "plt.show()"
   ]
  },
  {
   "cell_type": "code",
   "execution_count": null,
   "metadata": {
    "collapsed": false
   },
   "outputs": [],
   "source": [
    "print(\"Confusion matrices\")\n",
    "for i, m in enumerate([model1, model2, model3]):\n",
    "    pred_labels = model2.predict(X)\n",
    "    print(['uncert', 'random', 'QUIRE'][i])\n",
    "    cm = confusion_matrix(y, pred_labels)\n",
    "    print(cm)"
   ]
  }
 ],
 "metadata": {
  "kernelspec": {
   "display_name": "Python 3",
   "language": "python",
   "name": "python3"
  },
  "language_info": {
   "codemirror_mode": {
    "name": "ipython",
    "version": 3
   },
   "file_extension": ".py",
   "mimetype": "text/x-python",
   "name": "python",
   "nbconvert_exporter": "python",
   "pygments_lexer": "ipython3",
   "version": "3.5.1"
  }
 },
 "nbformat": 4,
 "nbformat_minor": 0
}
