{
 "cells": [
  {
   "cell_type": "code",
   "execution_count": 1,
   "metadata": {
    "collapsed": false
   },
   "outputs": [],
   "source": [
    "%matplotlib inline\n",
    "\n",
    "import matplotlib\n",
    "import numpy as np\n",
    "import matplotlib.pyplot as plt\n",
    "from scipy import stats\n",
    "\n",
    "from sklearn.feature_extraction.text import TfidfVectorizer\n",
    "\n",
    "import pickle\n",
    "import os\n",
    "from sklearn import datasets\n",
    "from sklearn.semi_supervised import label_propagation\n",
    "from sklearn.linear_model import LogisticRegression\n",
    "from sklearn.metrics import classification_report, confusion_matrix\n",
    "\n",
    "N_examples = 890393 # total\n",
    "\n",
    "N_samples = 100000\n",
    "\n",
    "def create_dataset(balanced=False):\n",
    "    y = np.zeros(N_samples)\n",
    "    i = 0\n",
    "    n_neg = 0\n",
    "    corpus = []\n",
    "\n",
    "    for line in open('train_filtered.csv'):\n",
    "        label, text = line.split(',')\n",
    "        label = int(label)\n",
    "\n",
    "        if label == -1:\n",
    "            n_neg += 1\n",
    "            if balanced and n_neg > N_samples / 2:\n",
    "                continue\n",
    "\n",
    "        corpus.append(text)\n",
    "        y[i] = label        \n",
    "\n",
    "        i += 1        \n",
    "        if i == N_samples:\n",
    "            break\n",
    "    \n",
    "    vectorizer = TfidfVectorizer(ngram_range=(1, 2), min_df=5, max_df=0.5, stop_words='english')\n",
    "    \n",
    "    X = vectorizer.fit_transform(corpus)\n",
    "    \"\"\"\n",
    "    We change label -1 to 0 and keep -1 to represent unlabeled instances\n",
    "    \"\"\"\n",
    "    y[y==-1] = 0\n",
    "    \n",
    "    return X.toarray(), y\n",
    "\n",
    "def load_dataset():\n",
    "    fname = \"dataset.pickle\"\n",
    "    if os.path.exists(fname):\n",
    "        dataset = pickle.load(open(fname, 'rb'))\n",
    "    else:\n",
    "        dataset = create_dataset()\n",
    "        pickle.dump(dataset, open(fname, 'wb'))\n",
    "    X, y = dataset\n",
    "    return X, y\n"
   ]
  },
  {
   "cell_type": "code",
   "execution_count": 2,
   "metadata": {
    "collapsed": false
   },
   "outputs": [],
   "source": [
    "#!/usr/bin/env python3\n",
    "\"\"\"\n",
    "The script helps guide the users to quickly understand how to use\n",
    "libact by going through a simple active learning task with clear\n",
    "descriptions.\n",
    "\"\"\"\n",
    "\n",
    "import copy\n",
    "import os\n",
    "\n",
    "import numpy as np\n",
    "import matplotlib.pyplot as plt\n",
    "from sklearn.cross_validation import train_test_split\n",
    "\n",
    "# libact classes\n",
    "from libact.base.dataset import Dataset, import_libsvm_sparse\n",
    "from libact.models import *\n",
    "from libact.query_strategies import *\n",
    "from libact.labelers import IdealLabeler\n",
    "\n",
    "\n",
    "def run(trn_ds, tst_ds, lbr, model, qs, quota, batch_size):\n",
    "    E_in, E_out = [], []\n",
    "\n",
    "    batch_i = 0\n",
    "    for _ in range(quota):\n",
    "        # Standard usage of libact objects\n",
    "        ask_id = qs.make_query()\n",
    "        X, _ = zip(*trn_ds.data)\n",
    "        lb = lbr.label(X[ask_id])\n",
    "        trn_ds.update(ask_id, lb)\n",
    "        batch_i += 1\n",
    "        if batch_i == batch_size:\n",
    "            model.train(trn_ds)\n",
    "            batch_i = 0            \n",
    "            E_in = np.append(E_in, 1 - model.score(trn_ds))\n",
    "            E_out = np.append(E_out, 1 - model.score(tst_ds))\n",
    "\n",
    "    return E_in, E_out\n",
    "\n",
    "\n",
    "def split_train_test(X, y, test_size, n_labeled):\n",
    "    X_train, X_test, y_train, y_test = \\\n",
    "        train_test_split(X, y, test_size=test_size)\n",
    "    trn_ds = Dataset(X_train, np.concatenate(\n",
    "        [y_train[:n_labeled], [None] * (len(y_train) - n_labeled)]))\n",
    "    tst_ds = Dataset(X_test, y_test)\n",
    "    fully_labeled_trn_ds = Dataset(X_train, y_train)\n",
    "\n",
    "    return trn_ds, tst_ds, y_train, fully_labeled_trn_ds\n"
   ]
  },
  {
   "cell_type": "code",
   "execution_count": 3,
   "metadata": {
    "collapsed": true
   },
   "outputs": [],
   "source": [
    "X, y = create_dataset(balanced=True)"
   ]
  },
  {
   "cell_type": "code",
   "execution_count": 4,
   "metadata": {
    "collapsed": false
   },
   "outputs": [
    {
     "data": {
      "text/plain": [
       "(100000, 97374)"
      ]
     },
     "execution_count": 4,
     "metadata": {},
     "output_type": "execute_result"
    }
   ],
   "source": [
    "X.shape"
   ]
  },
  {
   "cell_type": "code",
   "execution_count": 5,
   "metadata": {
    "collapsed": false
   },
   "outputs": [
    {
     "data": {
      "text/plain": [
       "50000"
      ]
     },
     "execution_count": 5,
     "metadata": {},
     "output_type": "execute_result"
    }
   ],
   "source": [
    "sum(y==1)"
   ]
  },
  {
   "cell_type": "code",
   "execution_count": null,
   "metadata": {
    "collapsed": false
   },
   "outputs": [],
   "source": [
    "# Specifiy the parameters here:\n",
    "\n",
    "test_size = 0.33    # the percentage of samples in the dataset that will be\n",
    "                    # randomly selected and assigned to the test set\n",
    "n_labeled = 100     # number of samples that are initially labeled\n",
    "batch_size = 100    # number of new queries to fetch before retraining the classifier\n",
    "\n",
    "# Load dataset\n",
    "# X, y = load_dataset_reduced()\n",
    "# X, y = load_dataset()\n",
    "X, y = create_dataset(balanced=True)\n",
    "\n",
    "X_train, X_test, y_train, y_test = train_test_split(X, y, test_size=test_size)\n",
    "\n",
    "model = LogisticRegression(class_weight='balanced')\n",
    "\n",
    "model.fit(X_train, y_train)\n",
    "\n"
   ]
  },
  {
   "cell_type": "code",
   "execution_count": null,
   "metadata": {
    "collapsed": false
   },
   "outputs": [],
   "source": [
    "print(\"Confusion matrix\")\n",
    "pred_labels = model.predict(X_test)\n",
    "cm = confusion_matrix(y, pred_labels)\n",
    "print(cm)\n",
    "\n",
    "error = sum(y != pred_labels)/len(y)"
   ]
  }
 ],
 "metadata": {
  "kernelspec": {
   "display_name": "Python 3",
   "language": "python",
   "name": "python3"
  },
  "language_info": {
   "codemirror_mode": {
    "name": "ipython",
    "version": 3
   },
   "file_extension": ".py",
   "mimetype": "text/x-python",
   "name": "python",
   "nbconvert_exporter": "python",
   "pygments_lexer": "ipython3",
   "version": "3.5.1"
  }
 },
 "nbformat": 4,
 "nbformat_minor": 0
}
