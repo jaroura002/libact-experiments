{
 "cells": [
  {
   "cell_type": "code",
   "execution_count": 1,
   "metadata": {
    "collapsed": true
   },
   "outputs": [],
   "source": [
    "# convert from VW dataset\n",
    "output = open('train_filtered.csv', 'w')\n",
    "for line in open('train_filtered.vw'):\n",
    "    items = line.split()\n",
    "    label = items[0]\n",
    "    rest = ' '.join(items[3:])\n",
    "    output.write('%s,%s\\n' % (label, rest))\n"
   ]
  },
  {
   "cell_type": "code",
   "execution_count": 1,
   "metadata": {
    "collapsed": false
   },
   "outputs": [],
   "source": [
    "from sklearn.feature_extraction.text import CountVectorizer\n",
    "import pickle\n",
    "import os\n",
    "\n",
    "import numpy as np\n",
    "import matplotlib.pyplot as plt\n",
    "from scipy import stats\n",
    "\n",
    "from sklearn import datasets\n",
    "from sklearn.semi_supervised import label_propagation\n",
    "from sklearn.linear_model import LogisticRegression\n",
    "from sklearn.metrics import classification_report, confusion_matrix\n",
    "\n",
    "N_examples = 890393 \n",
    "\n",
    "def create_dataset():\n",
    "    y = np.zeros(N_examples)\n",
    "    i = 0\n",
    "    corpus = []\n",
    "\n",
    "    for line in open('train_filtered.csv'):\n",
    "        label, text = line.split(',')\n",
    "        corpus.append(text)\n",
    "        y[i] = int(label)\n",
    "        i += 1\n",
    "    \n",
    "    vectorizer = CountVectorizer(ngram_range=(1, 1),\n",
    "                                        token_pattern=r'\\b\\w+\\b', min_df=100, max_features=1000)\n",
    "    \n",
    "    \n",
    "    X = vectorizer.fit_transform(corpus)\n",
    "    \n",
    "    \"\"\"\n",
    "    We change label -1 to 0 and keep -1 to represent unlabeled instances\n",
    "    \"\"\"\n",
    "    y[y==-1] = 0\n",
    "    \n",
    "    return X, y\n",
    "\n",
    "def load_dataset():\n",
    "    fname = \"dataset.pickle\"\n",
    "    if os.path.exists(fname):\n",
    "        dataset = pickle.load(open(fname, 'rb'))\n",
    "    else:\n",
    "        dataset = create_dataset()\n",
    "        pickle.dump(dataset, open(fname, 'wb'))\n",
    "    X, y = dataset\n",
    "    return X, y\n"
   ]
  },
  {
   "cell_type": "code",
   "execution_count": 8,
   "metadata": {
    "collapsed": false
   },
   "outputs": [],
   "source": [
    "X_full, y_full = load_dataset()"
   ]
  },
  {
   "cell_type": "code",
   "execution_count": 10,
   "metadata": {
    "collapsed": false
   },
   "outputs": [],
   "source": [
    "\"\"\"\n",
    "    Create reduced dataset\n",
    "\"\"\"\n",
    "def create_dataset_reduced():\n",
    "    X_full, y_full = load_dataset()\n",
    "    \n",
    "    n_reduced_samples = 5000\n",
    "    n_total_samples = len(y_full)\n",
    "    rng = np.random.RandomState(0)\n",
    "    indices = np.arange(n_total_samples)\n",
    "    rng.shuffle(indices)\n",
    "    X = X_full[indices[:n_reduced_samples]].toarray()\n",
    "    y = y_full[indices[:n_reduced_samples]]\n",
    "\n",
    "    n_labeled_points = 100\n",
    "    unlabeled_indices = np.arange(n_reduced_samples)[n_labeled_points:]\n",
    "    \n",
    "    return X, y\n",
    "\n",
    "def load_dataset_reduced():\n",
    "    fname = \"dataset_reduced.pickle\"\n",
    "    if os.path.exists(fname):\n",
    "        dataset = pickle.load(open(fname, 'rb'))\n",
    "    else:\n",
    "        dataset = create_dataset_reduced()\n",
    "        pickle.dump(dataset, open(fname, 'wb'))\n",
    "    X, y = dataset\n",
    "    return X, y\n"
   ]
  },
  {
   "cell_type": "code",
   "execution_count": 11,
   "metadata": {
    "collapsed": false
   },
   "outputs": [],
   "source": [
    "X, y = load_dataset_reduced()"
   ]
  },
  {
   "cell_type": "code",
   "execution_count": 12,
   "metadata": {
    "collapsed": false
   },
   "outputs": [
    {
     "data": {
      "text/plain": [
       "(5000, 1000)"
      ]
     },
     "execution_count": 12,
     "metadata": {},
     "output_type": "execute_result"
    }
   ],
   "source": [
    "X.shape"
   ]
  },
  {
   "cell_type": "code",
   "execution_count": null,
   "metadata": {
    "collapsed": false
   },
   "outputs": [],
   "source": [
    "\"\"\"\n",
    "========================================\n",
    "Label Propagation digits active learning\n",
    "========================================\n",
    "\n",
    "Demonstrates an active learning technique to learn handwritten digits\n",
    "using label propagation.\n",
    "\n",
    "We start by training a label propagation model with only 10 labeled points,\n",
    "then we select the top five most uncertain points to label. Next, we train\n",
    "with 15 labeled points (original 10 + 5 new ones). We repeat this process\n",
    "four times to have a model trained with 30 labeled examples.\n",
    "\n",
    "A plot will appear showing the top 5 most uncertain digits for each iteration\n",
    "of training. These may or may not contain mistakes, but we will train the next\n",
    "model with their true labels.\n",
    "\"\"\"\n",
    "print(__doc__)\n",
    "\n",
    "for i in range(20):\n",
    "    y_train = np.copy(y)\n",
    "    y_train[unlabeled_indices] = -1\n",
    "\n",
    "    \n",
    "    # model = label_propagation.LabelSpreading(gamma=0.25, max_iter=5)\n",
    "    # model.fit(X, y_train)\n",
    "    \n",
    "    model = LogisticRegression()\n",
    "    model.fit(X, y_train)\n",
    "    \n",
    "    # predicted_labels = model.transduction_[unlabeled_indices]\n",
    "    predicted_labels = model.predict(X[unlabeled_indices])\n",
    "    true_labels = y[unlabeled_indices]\n",
    "\n",
    "    cm = confusion_matrix(true_labels, predicted_labels,\n",
    "                          labels=model.classes_)\n",
    "\n",
    "    print('Iteration %i %s' % (i, 70 * '_'))\n",
    "    print(\"Label Spreading model: %d labeled & %d unlabeled (%d total)\"\n",
    "          % (n_labeled_points, n_total_samples - n_labeled_points, n_total_samples))\n",
    "\n",
    "    print(classification_report(true_labels, predicted_labels))\n",
    "\n",
    "    print(\"Confusion matrix\")\n",
    "    print(cm)\n",
    "\n",
    "    # compute the entropies of transduced label distributions\n",
    "    pred_entropies = stats.distributions.entropy(\n",
    "        lp_model.label_distributions_.T)\n",
    "\n",
    "    # select five examples that the classifier is most uncertain about\n",
    "    uncertainty_index = uncertainty_index = np.argsort(pred_entropies)[-5:]\n",
    "\n",
    "    # keep track of indices that we get labels for\n",
    "    delete_indices = np.array([])\n",
    "\n",
    "    for index, image_index in enumerate(uncertainty_index):\n",
    "        # labeling 5 points, remote from labeled set\n",
    "        delete_index, = np.where(unlabeled_indices == image_index)\n",
    "        delete_indices = np.concatenate((delete_indices, delete_index))\n",
    "\n",
    "    unlabeled_indices = np.delete(unlabeled_indices, delete_indices)\n",
    "    n_labeled_points += 100\n"
   ]
  },
  {
   "cell_type": "code",
   "execution_count": null,
   "metadata": {
    "collapsed": false
   },
   "outputs": [],
   "source": []
  }
 ],
 "metadata": {
  "kernelspec": {
   "display_name": "Python 3",
   "language": "python",
   "name": "python3"
  },
  "language_info": {
   "codemirror_mode": {
    "name": "ipython",
    "version": 3
   },
   "file_extension": ".py",
   "mimetype": "text/x-python",
   "name": "python",
   "nbconvert_exporter": "python",
   "pygments_lexer": "ipython3",
   "version": "3.5.1"
  }
 },
 "nbformat": 4,
 "nbformat_minor": 0
}
